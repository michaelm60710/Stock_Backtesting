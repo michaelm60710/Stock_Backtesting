{
 "cells": [
  {
   "cell_type": "code",
   "execution_count": 16,
   "metadata": {},
   "outputs": [
    {
     "name": "stdout",
     "output_type": "stream",
     "text": [
      "The autoreload extension is already loaded. To reload it, use:\n",
      "  %reload_ext autoreload\n"
     ]
    }
   ],
   "source": [
    "%load_ext autoreload\n",
    "%autoreload 2\n",
    "import logging\n",
    "import sys, os\n",
    "import talib\n",
    "sys.path.insert(0, os.path.abspath(\"\"+\"../Crawler\"))\n",
    "sys.path.insert(0, os.path.abspath(\"\"+\"../Simulator\"))\n",
    "\n",
    "from Packing import Data_preprocessing\n",
    "import Simulator\n",
    "from Component import *"
   ]
  },
  {
   "cell_type": "code",
   "execution_count": 27,
   "metadata": {},
   "outputs": [
    {
     "name": "stdout",
     "output_type": "stream",
     "text": [
      "# Read pickle \n",
      "load origin pkl file.\n",
      "load finance data pkl file.\n"
     ]
    }
   ],
   "source": [
    "# Simulator 讀取DATA\n",
    "# sim = Simulator.Simulator(updatePKL = True, rebuildPKL = False) //default \n",
    "# updatePKL = true 會 update DATA\n",
    "# rebuildPKL = True 會DATA全部重整理, 較慢, 但比較不會出錯(少整理DATA), 一般用Simulator.Simulator()即可\n",
    "# sim = Simulator.Simulator(updatePKL = False) 只拿舊的資料(上次update後的)\n",
    "sim = Simulator.Simulator()"
   ]
  },
  {
   "cell_type": "code",
   "execution_count": 34,
   "metadata": {},
   "outputs": [],
   "source": [
    "# sim.DATA可抓所有資料, sim.DATA的struct是dictionary, \n",
    "# 裡面可能還會有dict或是dataframe, 可用sim.DATA.keys()或sim.Print_data_columns() 看有哪些資料\n",
    "# 要建立 buy 和 sell 條件才能回測, struct需要轉換成Component(), 用法 comp = Component(你的data)\n",
    "# 要讀Component的data, comp.data即可\n",
    "\n",
    "# 1. 大盤, Note: sim.DATA可抓所有資料\n",
    "TW_Futures = sim.DATA['加權指數']\n",
    "\n",
    "# 2. Buy signals\n",
    "# talib_KD 可以產生K D data, struct為Component: 可試試type(slow_k)\n",
    "slow_k, slow_d = talib_KD(sim.DATA['加權指數'])\n",
    "# Component 也可做 & | < > = ...,etc的運算\n",
    "buy = (slow_d < 20) & (slow_d < slow_k)\n",
    "\n",
    "# 3. Sell signals\n",
    "# assume sell signals為buy的後三天\n",
    "sell = buy.shift(3)"
   ]
  },
  {
   "cell_type": "code",
   "execution_count": 47,
   "metadata": {
    "collapsed": true
   },
   "outputs": [],
   "source": [
    "# show the INFO\n",
    "sim.Run?"
   ]
  },
  {
   "cell_type": "code",
   "execution_count": 50,
   "metadata": {},
   "outputs": [
    {
     "name": "stdout",
     "output_type": "stream",
     "text": [
      "# -----------------------RESULTS------------------------ #\n",
      "#                                                        #\n",
      "#               Period =      2011-09-01 to 2019-01-15   #\n",
      "#         Num of Trade =              54                 #\n",
      "#               Profit =           14580                 #\n",
      "#           Max Profit =           16060                 #\n",
      "#           Min Profit =          -30220                 #\n",
      "# Return On Investment =           48.6%                 #\n",
      "#       Annualized ROI =           5.51%                 #\n",
      "#        Ave_hold_days =             4.2                 #\n",
      "#        Max_hold_days =               7                 #\n",
      "#        Min_hold_days =               3                 #\n",
      "#                                                        #\n",
      "# ------------------------------------------------------ #\n",
      "\n",
      "This is the format of your plot grid:\n",
      "[ (1,1) x1,y1 ]\n",
      "[ (2,1) x2,y2 ]\n",
      "\n"
     ]
    },
    {
     "data": {
      "text/html": [
       "<iframe id=\"igraph\" scrolling=\"no\" style=\"border:none;\" seamless=\"seamless\" src=\"https://plot.ly/~michael.pai/14.embed\" height=\"700px\" width=\"100%\"></iframe>"
      ],
      "text/plain": [
       "<plotly.tools.PlotlyDisplay object>"
      ]
     },
     "execution_count": 50,
     "metadata": {},
     "output_type": "execute_result"
    }
   ],
   "source": [
    "# 4. Show the RESULTS and plot the Profit\n",
    "sim.Run(buy = buy, sell = sell, buy_price = 'Close')  \n",
    "# 4.1 Results: 整理表格\n",
    "# 4.2 Plot : 1. 台指獲利為從起點買著台指放著\n",
    "#            2. 績效評估\n",
    "#            3. 虧損評估, 公式: 現有資金/曾經最大獲利值 (用期貨跑得數值會有點奇怪)"
   ]
  },
  {
   "cell_type": "code",
   "execution_count": 48,
   "metadata": {},
   "outputs": [
    {
     "data": {
      "text/html": [
       "<iframe id=\"igraph\" scrolling=\"no\" style=\"border:none;\" seamless=\"seamless\" src=\"https://plot.ly/~michael.pai/10.embed\" height=\"525px\" width=\"100%\"></iframe>"
      ],
      "text/plain": [
       "<plotly.tools.PlotlyDisplay object>"
      ]
     },
     "execution_count": 48,
     "metadata": {},
     "output_type": "execute_result"
    }
   ],
   "source": [
    "# 5. Plot\n",
    "# 藍色為此策略的持有時間\n",
    "# Setup: set buy, sell, tax signal\n",
    "# Iplotly: plot\n",
    "sim.Setup(buy = buy, sell = sell).Iplotly(start_date='2017-01-01',end_date='2018-12-06')"
   ]
  },
  {
   "cell_type": "code",
   "execution_count": 49,
   "metadata": {},
   "outputs": [
    {
     "data": {
      "text/plain": [
       "\"\\nsim.Run(buy = buy, sell = sell, buy_price = 'Close')\\n\""
      ]
     },
     "execution_count": 49,
     "metadata": {},
     "output_type": "execute_result"
    }
   ],
   "source": [
    "#Usage example 1: To plot OHLC_data & holding info\n",
    "'''\n",
    "1. \n",
    "sim.Setup(buy = buy, sell = sell)\n",
    "sim.Iplotly(OHLC_data=TW_Futures, start_date='2017-01-01',end_date='2018-12-06')\n",
    "\n",
    "2.\n",
    "sim.Setup(buy = buy, sell = sell).Iplotly(OHLC_data=TW_Futures, start_date='2017-01-01',end_date='2018-12-06')\n",
    "\n",
    "3.\n",
    "sim.Run(buy = buy, sell = sell, buy_price = 'Close', return_iplot = False)\n",
    "sim.Iplotly(OHLC_data=TW_Futures, start_date='2017-01-01',end_date='2018-12-06')\n",
    "'''\n",
    "#Usage example 2: To show the RESULTS & plot\n",
    "'''\n",
    "sim.Run(buy = buy, sell = sell, buy_price = 'Close')\n",
    "'''"
   ]
  },
  {
   "cell_type": "code",
   "execution_count": null,
   "metadata": {
    "collapsed": true
   },
   "outputs": [],
   "source": []
  }
 ],
 "metadata": {
  "kernelspec": {
   "display_name": "Python 3",
   "language": "python",
   "name": "python3"
  },
  "language_info": {
   "codemirror_mode": {
    "name": "ipython",
    "version": 3
   },
   "file_extension": ".py",
   "mimetype": "text/x-python",
   "name": "python",
   "nbconvert_exporter": "python",
   "pygments_lexer": "ipython3",
   "version": "3.5.2"
  }
 },
 "nbformat": 4,
 "nbformat_minor": 2
}
