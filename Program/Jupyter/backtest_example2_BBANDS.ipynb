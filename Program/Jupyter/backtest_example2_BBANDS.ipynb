{
 "cells": [
  {
   "cell_type": "code",
   "execution_count": 1,
   "metadata": {},
   "outputs": [],
   "source": [
    "%load_ext autoreload\n",
    "%autoreload 2\n",
    "import logging\n",
    "import sys, os\n",
    "import talib\n",
    "sys.path.insert(0, os.path.abspath(\"\"+\"../Crawler\"))\n",
    "sys.path.insert(0, os.path.abspath(\"\"+\"../Simulator\"))\n",
    "\n",
    "from Packing import Data_preprocessing\n",
    "import Simulator\n",
    "from Component import *"
   ]
  },
  {
   "cell_type": "code",
   "execution_count": 2,
   "metadata": {},
   "outputs": [
    {
     "name": "stdout",
     "output_type": "stream",
     "text": [
      "# Update data\n",
      "load origin pkl file.\n",
      "load finance data pkl file.\n",
      "Update origin data pkl.\n",
      "    Institutional_investors\n",
      "    MTX\n",
      "    TaiExchange\n",
      "    Taifutures_LargeTrade\n",
      "    Taifutures\n",
      "    Stock_Investors\n",
      "    TX_Investors\n",
      "    Taifutures_Investors\n",
      "    Stock_Price\n",
      "    TaiExchange_OHLC\n",
      "    MTX_Investors\n",
      "update finance data pkl.\n"
     ]
    }
   ],
   "source": [
    "# Simulator 讀取DATA\n",
    "sim = Simulator.Simulator()"
   ]
  },
  {
   "cell_type": "code",
   "execution_count": 4,
   "metadata": {},
   "outputs": [
    {
     "name": "stdout",
     "output_type": "stream",
     "text": [
      "# -----------------------RESULTS------------------------ #\n",
      "#                                                        #\n",
      "#               Period =      2011-09-01 to 2019-01-16   #\n",
      "#         Num of Trade =              49                 #\n",
      "#               Profit =          -11170                 #\n",
      "#           Max Profit =            8220                 #\n",
      "#           Min Profit =          -28840                 #\n",
      "# Return On Investment =         -37.23%                 #\n",
      "#       Annualized ROI =          -4.38%                 #\n",
      "#        Ave_hold_days =            2.73                 #\n",
      "#        Max_hold_days =               5                 #\n",
      "#        Min_hold_days =               2                 #\n",
      "#                                                        #\n",
      "# ------------------------------------------------------ #\n",
      "\n",
      "This is the format of your plot grid:\n",
      "[ (1,1) x1,y1 ]\n",
      "[ (2,1) x2,y2 ]\n",
      "\n"
     ]
    },
    {
     "data": {
      "text/html": [
       "<iframe id=\"igraph\" scrolling=\"no\" style=\"border:none;\" seamless=\"seamless\" src=\"https://plot.ly/~michael.pai/14.embed\" height=\"700px\" width=\"100%\"></iframe>"
      ],
      "text/plain": [
       "<plotly.tools.PlotlyDisplay object>"
      ]
     },
     "execution_count": 4,
     "metadata": {},
     "output_type": "execute_result"
    }
   ],
   "source": [
    "# 大盤, Note: sim.DATA可抓所有資料\n",
    "TW_Futures = sim.DATA['加權指數']\n",
    "\n",
    "# Buy signals\n",
    "# talib_BBANDS 寫在Component.py\n",
    "upperband, middleband, lowerband = talib_BBANDS(sim.DATA['加權指數'])\n",
    "\n",
    "high_d  = Component(sim.DATA['加權指數']['High'])\n",
    "open_d  = Component(sim.DATA['加權指數']['Open'])\n",
    "close_d = Component(sim.DATA['加權指數']['Close'])\n",
    "green_d = (open_d - close_d) > 30\n",
    "buy = (upperband < high_d) & green_d\n",
    "\n",
    "# Sell signals\n",
    "sell = buy.shift(2)\n",
    "\n",
    "# 4. Plot\n",
    "# 灰色為此策略的持有時間\n",
    "sim.Run(buy = buy, sell = sell, buy_price = 'Close')  \n",
    "#sim.Iplotly(buy, sell, OHLC_data=TW_Futures, start_date='2016-01-01',end_date='2018-12-06')"
   ]
  },
  {
   "cell_type": "code",
   "execution_count": 10,
   "metadata": {},
   "outputs": [
    {
     "data": {
      "text/html": [
       "<iframe id=\"igraph\" scrolling=\"no\" style=\"border:none;\" seamless=\"seamless\" src=\"https://plot.ly/~michael.pai/10.embed\" height=\"525px\" width=\"100%\"></iframe>"
      ],
      "text/plain": [
       "<plotly.tools.PlotlyDisplay object>"
      ]
     },
     "execution_count": 10,
     "metadata": {},
     "output_type": "execute_result"
    }
   ],
   "source": [
    "#sim.Setup(buy = buy, sell = sell).Iplotly(start_date='2016-01-01',end_date='2018-12-06')\n",
    "sim.Iplotly(start_date='2016-01-01',end_date='2018-12-06')"
   ]
  },
  {
   "cell_type": "code",
   "execution_count": 14,
   "metadata": {},
   "outputs": [
    {
     "data": {
      "text/html": [
       "<iframe id=\"igraph\" scrolling=\"no\" style=\"border:none;\" seamless=\"seamless\" src=\"https://plot.ly/~michael.pai/10.embed\" height=\"525px\" width=\"100%\"></iframe>"
      ],
      "text/plain": [
       "<plotly.tools.PlotlyDisplay object>"
      ]
     },
     "execution_count": 14,
     "metadata": {},
     "output_type": "execute_result"
    }
   ],
   "source": [
    "# You can also re-plot the figure (add upperband & lowerband)\n",
    "import plotly\n",
    "import plotly.plotly as py\n",
    "\n",
    "# Prepare data\n",
    "upperband.data = upperband.data.truncate(OHLC_data.index[0], OHLC_data.index[-1], axis = 0)\n",
    "lowerband.data = lowerband.data.truncate(OHLC_data.index[0], OHLC_data.index[-1], axis = 0)\n",
    "\n",
    "# return fig only (return_iplot = False)\n",
    "fig = sim.Iplotly(start_date='2017-01-01',end_date='2018-12-06', return_iplot = False)\n",
    "\n",
    "# add upperBBAND & lowerBBAND\n",
    "fig['data'].append( dict(\n",
    "        type = 'scatter',\n",
    "        y = upperband.data,\n",
    "        x = upperband.data.index,\n",
    "        yaxis='y1',\n",
    "        name='UpperBAND'\n",
    "    ) )\n",
    "fig['data'].append( dict(\n",
    "        type = 'scatter',\n",
    "        y = lowerband.data,\n",
    "        x = lowerband.data.index,\n",
    "        yaxis='y1',\n",
    "        name='LowerBAND'\n",
    "    ) )\n",
    "\n",
    "# Plot\n",
    "py.iplot(fig, filename='TW_Futures')"
   ]
  },
  {
   "cell_type": "code",
   "execution_count": 6,
   "metadata": {},
   "outputs": [
    {
     "data": {
      "text/plain": [
       "{'display_name': 'Bollinger Bands',\n",
       " 'function_flags': ['Output scale same as input'],\n",
       " 'group': 'Overlap Studies',\n",
       " 'input_names': OrderedDict([('price', 'close')]),\n",
       " 'name': 'BBANDS',\n",
       " 'output_flags': OrderedDict([('upperband',\n",
       "               ['Values represent an upper limit']),\n",
       "              ('middleband', ['Line']),\n",
       "              ('lowerband', ['Values represent a lower limit'])]),\n",
       " 'output_names': ['upperband', 'middleband', 'lowerband'],\n",
       " 'parameters': OrderedDict([('timeperiod', 20),\n",
       "              ('nbdevup', 2),\n",
       "              ('nbdevdn', 2),\n",
       "              ('matype', 8)])}"
      ]
     },
     "execution_count": 6,
     "metadata": {},
     "output_type": "execute_result"
    }
   ],
   "source": [
    "# talib INFO\n",
    "talib.abstract.BBANDS.info"
   ]
  },
  {
   "cell_type": "code",
   "execution_count": null,
   "metadata": {
    "collapsed": true
   },
   "outputs": [],
   "source": []
  }
 ],
 "metadata": {
  "kernelspec": {
   "display_name": "Python 3",
   "language": "python",
   "name": "python3"
  },
  "language_info": {
   "codemirror_mode": {
    "name": "ipython",
    "version": 3
   },
   "file_extension": ".py",
   "mimetype": "text/x-python",
   "name": "python",
   "nbconvert_exporter": "python",
   "pygments_lexer": "ipython3",
   "version": "3.5.2"
  }
 },
 "nbformat": 4,
 "nbformat_minor": 2
}
