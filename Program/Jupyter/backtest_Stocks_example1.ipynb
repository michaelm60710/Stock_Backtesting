{
 "cells": [
  {
   "cell_type": "code",
   "execution_count": 2,
   "metadata": {},
   "outputs": [
    {
     "name": "stdout",
     "output_type": "stream",
     "text": [
      "The autoreload extension is already loaded. To reload it, use:\n",
      "  %reload_ext autoreload\n"
     ]
    }
   ],
   "source": [
    "%load_ext autoreload\n",
    "%autoreload 2\n",
    "import logging\n",
    "import sys, os\n",
    "import talib\n",
    "sys.path.insert(0, os.path.abspath(\"\"+\"../Crawler\"))\n",
    "sys.path.insert(0, os.path.abspath(\"\"+\"../Simulator\"))\n",
    "\n",
    "from Packing import Data_preprocessing\n",
    "import Simulator\n",
    "from Component import *"
   ]
  },
  {
   "cell_type": "code",
   "execution_count": 3,
   "metadata": {},
   "outputs": [
    {
     "name": "stdout",
     "output_type": "stream",
     "text": [
      "# Read pickle \n",
      "load origin pkl file.\n",
      "load finance data pkl file.\n",
      "Construct Components_lib.\n"
     ]
    }
   ],
   "source": [
    "# Simulator 讀取DATA\n",
    "sim = Simulator.Simulator(updatePKL=False)"
   ]
  },
  {
   "cell_type": "code",
   "execution_count": 4,
   "metadata": {
    "collapsed": true
   },
   "outputs": [],
   "source": [
    "# buy example\n",
    "slow_k, slow_d = talib_Output(sim.DATA['台股個股'], talib.abstract.STOCH, {'fastk_period':9})\n",
    "法人_buy = N日均線(sim.DATA['台股個股']['法人總計'], 3 ) > 500\n",
    "成交張數大於2500張 = Component(sim.DATA['台股個股']['成交股數']/1000 > 2500)\n",
    "buy = (slow_d < 10) & 成交張數大於2500張 & 法人_buy\n",
    "\n",
    "# sell\n",
    "sell_k = (slow_k > 85)\n",
    "sell = buy.shift(10) | sell_k"
   ]
  },
  {
   "cell_type": "code",
   "execution_count": 6,
   "metadata": {},
   "outputs": [
    {
     "data": {
      "text/plain": [
       "dict_keys(['自營商', '投信', 'High', '外資', '自營商(僅避險)', 'Close', 'Open', '法人總計', '成交金額', '本益比', '成交筆數', 'Volume', 'Low', '成交股數'])"
      ]
     },
     "execution_count": 6,
     "metadata": {},
     "output_type": "execute_result"
    }
   ],
   "source": [
    "# stocks data\n",
    "sim.DATA['台股個股'].keys()"
   ]
  },
  {
   "cell_type": "code",
   "execution_count": 7,
   "metadata": {
    "scrolled": false
   },
   "outputs": [
    {
     "name": "stdout",
     "output_type": "stream",
     "text": [
      "# -----------------------RESULTS------------------------ #\n",
      "#                                                        #\n",
      "#               Period =      2012-05-02 to 2019-01-24   #\n",
      "#         Num of Trade =             303                 #\n",
      "#                Money =               1                 #\n",
      "#               Profit =          -0.393                 #\n",
      "#           Max Profit =           0.058                 #\n",
      "#           Min Profit =          -0.408                 #\n",
      "# Return On Investment =          -39.3%                 #\n",
      "#       Annualized ROI =          -5.05%                 #\n",
      "#        Ave_hold_days =            9.16                 #\n",
      "#        Max_hold_days =              10                 #\n",
      "#        Min_hold_days =               1                 #\n",
      "#                                                        #\n",
      "# ------------------------------------------------------ #\n",
      "\n",
      "This is the format of your plot grid:\n",
      "[ (1,1) x1,y1 ]\n",
      "[ (2,1) x2,y2 ]\n",
      "\n"
     ]
    },
    {
     "data": {
      "text/html": [
       "<iframe id=\"igraph\" scrolling=\"no\" style=\"border:none;\" seamless=\"seamless\" src=\"https://plot.ly/~michael.pai/14.embed\" height=\"700px\" width=\"100%\"></iframe>"
      ],
      "text/plain": [
       "<plotly.tools.PlotlyDisplay object>"
      ]
     },
     "execution_count": 7,
     "metadata": {},
     "output_type": "execute_result"
    }
   ],
   "source": [
    "# Use Mode - 'stocks'.\n",
    "# Add new figure - 'Trade info', \n",
    "# which shows the stocks ID which have been sold & profit-rate ( = sell/buy - 1) & hold_info (Money)\n",
    "sim.Run(buy, sell, Mode = 'stocks')"
   ]
  },
  {
   "cell_type": "code",
   "execution_count": 11,
   "metadata": {},
   "outputs": [
    {
     "data": {
      "text/plain": [
       "2.0"
      ]
     },
     "execution_count": 11,
     "metadata": {},
     "output_type": "execute_result"
    }
   ],
   "source": [
    "# sim._each_stocks_trade_count record the num of trades in each stocks \n",
    "# (Only keep StockID which have traded at least once)\n",
    "sim._each_stocks_trade_count['1312'] # print num of trade"
   ]
  },
  {
   "cell_type": "code",
   "execution_count": 12,
   "metadata": {},
   "outputs": [
    {
     "name": "stdout",
     "output_type": "stream",
     "text": [
      "# trade times: 2\n"
     ]
    },
    {
     "data": {
      "text/html": [
       "<iframe id=\"igraph\" scrolling=\"no\" style=\"border:none;\" seamless=\"seamless\" src=\"https://plot.ly/~michael.pai/22.embed\" height=\"525px\" width=\"100%\"></iframe>"
      ],
      "text/plain": [
       "<plotly.tools.PlotlyDisplay object>"
      ]
     },
     "execution_count": 12,
     "metadata": {},
     "output_type": "execute_result"
    }
   ],
   "source": [
    "# plot StockID = 1312\n",
    "# plot slow_k & slow_d together \n",
    "import plotly\n",
    "import plotly.plotly as py\n",
    "\n",
    "# settings\n",
    "start_date = '2014-01-01'\n",
    "end_date = '2019-01-01'\n",
    "StockID = '1312'\n",
    "\n",
    "fig = sim.Iplotly(start_date = start_date, end_date = end_date, Mode = 'Stocks', StockID = StockID, return_iplot = False)\n",
    "slowk = slow_k.data[StockID].truncate(start_date, end_date, axis = 0)\n",
    "slowd = slow_d.data[StockID].truncate(start_date, end_date, axis = 0)\n",
    "\n",
    "# add slowk & slowd\n",
    "fig['data'].append( dict(\n",
    "        type = 'scatter',\n",
    "        y = slowk,\n",
    "        x = slowk.index,\n",
    "        yaxis='y2',\n",
    "        opacity = 0.5,\n",
    "        name='slowk'\n",
    "    ) )\n",
    "fig['data'].append( dict(\n",
    "        type = 'scatter',\n",
    "        y = slowd,\n",
    "        x = slowd.index,\n",
    "        yaxis='y2',\n",
    "        opacity = 0.5,\n",
    "        name='slowd'\n",
    "    ) )\n",
    "\n",
    "fig['layout']['yaxis2'] = dict(\n",
    "    range= [0, 500], \n",
    "    overlaying= 'y', \n",
    "    anchor= 'x', \n",
    "    side= 'right', \n",
    ")\n",
    "\n",
    "# remove empty data date\n",
    "fig['layout']['xaxis'] = {'type':'category'}\n",
    "\n",
    "# Plot\n",
    "py.iplot(fig, filename='TW_stocks')"
   ]
  },
  {
   "cell_type": "code",
   "execution_count": 15,
   "metadata": {},
   "outputs": [
    {
     "data": {
      "text/html": [
       "<iframe id=\"igraph\" scrolling=\"no\" style=\"border:none;\" seamless=\"seamless\" src=\"https://plot.ly/~michael.pai/20.embed\" height=\"525px\" width=\"100%\"></iframe>"
      ],
      "text/plain": [
       "<plotly.tools.PlotlyDisplay object>"
      ]
     },
     "execution_count": 15,
     "metadata": {},
     "output_type": "execute_result"
    }
   ],
   "source": [
    "# Reference\n",
    "# 畫出每筆交易獲利分佈圖, (sell/buy - 1)\n",
    "# Note: sim._Profit_rate_list 存每筆交易profit\n",
    "# > 0, 交易獲利, < 0, 交易虧損\n",
    "import plotly.graph_objs as go\n",
    "data = [go.Histogram(x=sim._Profit_rate_list,\n",
    "                     histnorm='probability')]\n",
    "py.iplot(data, filename='normalized histogram')"
   ]
  }
 ],
 "metadata": {
  "kernelspec": {
   "display_name": "Python 3",
   "language": "python",
   "name": "python3"
  },
  "language_info": {
   "codemirror_mode": {
    "name": "ipython",
    "version": 3
   },
   "file_extension": ".py",
   "mimetype": "text/x-python",
   "name": "python",
   "nbconvert_exporter": "python",
   "pygments_lexer": "ipython3",
   "version": "3.5.2"
  }
 },
 "nbformat": 4,
 "nbformat_minor": 2
}
